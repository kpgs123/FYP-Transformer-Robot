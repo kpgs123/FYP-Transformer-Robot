{
 "cells": [
  {
   "cell_type": "code",
   "execution_count": null,
   "id": "826f4379",
   "metadata": {},
   "outputs": [],
   "source": [
    "import cv2 as cv\n",
    "from matplotlib import pyplot as plt"
   ]
  },
  {
   "cell_type": "code",
   "execution_count": null,
   "id": "13ed552f",
   "metadata": {},
   "outputs": [],
   "source": [
    "img = cv.imread(\"warehouse-top-view-vector.jpg\")\n",
    "resized_img = cv.resize(img, (400, 400), interpolation = cv.INTER_CUBIC)\n",
    "gray_img = cv.cvtColor(resized_img, cv.COLOR_BGR2GRAY)"
   ]
  },
  {
   "cell_type": "code",
   "execution_count": null,
   "id": "e8aa0f5a",
   "metadata": {},
   "outputs": [],
   "source": [
    "status = cv.imwrite(\"./gray_img.jpg\",gray_img)"
   ]
  },
  {
   "cell_type": "code",
   "execution_count": null,
   "id": "c0e33dc4",
   "metadata": {},
   "outputs": [],
   "source": [
    "img2 = cv.Laplacian(gray_img, cv.CV_16SC1)\n",
    "# Resize to fill the whole screen\n",
    "status = cv.imwrite(\"./laplacian_img.jpg\", img2)"
   ]
  }
 ],
 "metadata": {
  "kernelspec": {
   "display_name": "Python 3 (ipykernel)",
   "language": "python",
   "name": "python3"
  },
  "language_info": {
   "codemirror_mode": {
    "name": "ipython",
    "version": 3
   },
   "file_extension": ".py",
   "mimetype": "text/x-python",
   "name": "python",
   "nbconvert_exporter": "python",
   "pygments_lexer": "ipython3",
   "version": "3.9.7"
  }
 },
 "nbformat": 4,
 "nbformat_minor": 5
}
